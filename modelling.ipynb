{
 "cells": [
  {
   "cell_type": "code",
   "execution_count": 1,
   "id": "85e793f4",
   "metadata": {},
   "outputs": [],
   "source": [
    "import pandas as pd\n",
    "import numpy as np\n",
    "import datetime as dt\n",
    "import seaborn as sns\n",
    "\n",
    "from sklearn.model_selection import train_test_split\n",
    "from sklearn.metrics import classification_report\n",
    "from sklearn.metrics import accuracy_score\n",
    "from sklearn.metrics import confusion_matrix\n",
    "\n",
    "from catboost import CatBoostClassifier\n",
    "\n",
    "from sklearn.preprocessing import OneHotEncoder\n",
    "from sklearn.compose import make_column_transformer\n",
    "from sklearn.preprocessing import RobustScaler\n",
    "\n",
    "from imblearn.over_sampling import SMOTE\n",
    "import warnings\n",
    "warnings.filterwarnings(\"ignore\")"
   ]
  },
  {
   "cell_type": "code",
   "execution_count": 2,
   "id": "3d221462",
   "metadata": {},
   "outputs": [],
   "source": [
    "# train seti : \n",
    "\n",
    "train_df = pd.read_excel(\"train_5.xlsx\")\n",
    "\n",
    "# test seti :\n",
    "\n",
    "test_features = pd.read_excel(\"Test_Data.xlsx\")\n",
    "test_target = pd.read_excel(\"Test_Data_Actual.xlsx\")\n",
    "\n",
    "test_df = pd.concat([test_features, test_target], axis=1)\n",
    "test_df = test_df.drop([\"INDEX\",\"NK_FLAG\",\"ID\"], axis=1)\n",
    "test_df = test_df.rename(columns={'Actual (NK_FLAG)': 'NK_FLAG'})"
   ]
  },
  {
   "cell_type": "code",
   "execution_count": 3,
   "id": "ba4d956c-f624-41f1-8eac-6a646bbd99d5",
   "metadata": {},
   "outputs": [],
   "source": [
    "# preprocessing işleminin fonksiyonelleştirilmiş hali\n",
    "\n",
    "def preprocessing(df):\n",
    "    \n",
    "    # SAYAC_YAPIM_YILI değişkeni için NaN değerlerin median ile doldurulması: \n",
    "    df[\"SAYAC_YAPIM_YILI\"] = df[\"SAYAC_YAPIM_YILI\"].fillna(df[\"SAYAC_YAPIM_YILI\"].median())\n",
    "    \n",
    "    # SAYAC_MALZEME_ID, SAYAC_OLCUM_TURU ve SAYAC_FAZ_N değişkenlerinde bulunan NaN değerler \"MISSING\" ile doldurulmuştur:\n",
    "    df[\"SAYAC_MALZEME_ID\"].fillna(\"MISSING\", inplace=True)\n",
    "    df[\"SAYAC_OLCUM_TURU\"].fillna(\"MISSING\", inplace=True)\n",
    "    df[\"SAYAC_FAZ_N\"].fillna(\"MISSING\", inplace=True)\n",
    "    \n",
    "    # SAYAC_YAPIM_YILI ve SAYAC_BASLANGIC_TARIHI tarihi kullanılarak \"sayac_yas\" adlı bir feature oluşturulmuştur: \n",
    "    df['year'] = pd.DatetimeIndex(df['SAYAC_BASLANGIC_TARIHI']).year\n",
    "    df[\"year\"] = df[\"year\"].fillna(df[\"year\"].median())\n",
    "    df[\"sayac_yas\"] = df['year'] - df[\"SAYAC_YAPIM_YILI\"]\n",
    "\n",
    "    # TUKETIM ve DEMAND değişkenleri için NaN değerler ilgili satırın ortalamasıyla doldurulmuştur:\n",
    "    col_base = (\"TUKETIM\", \"DEMAND\")\n",
    "    for col in df.columns:\n",
    "        if col.startswith(col_base):\n",
    "            df[col].fillna(df[col].mean(), inplace=True)\n",
    "            \n",
    "    # Aylık tüketimler arasındaki oransal fark bulunup \"ORAN_X\" adlı feature'lar oluşturulmuştur:\n",
    "    for i in range(1,24):\n",
    "        df[f\"ORAN_{i}\"] = (abs(df[f\"TUKETIM_M{i+1}\"]-df[f\"TUKETIM_M{i}\"]) / df[f\"TUKETIM_M{i}\"])*100\n",
    "        \n",
    "    df = df.fillna(0)\n",
    "    df = df.replace([np.inf, -np.inf], 0)\n",
    "    \n",
    "    # SAYAC_MALZEME_ID string tipine dönüştürülmüştür : \n",
    "    new_cat_cols = ['SAYAC_MALZEME_ID']\n",
    "    for col in new_cat_cols:\n",
    "        df[col] = df[col].astype(str)\n",
    "        \n",
    "    # İşlem yapılmayacak kolonların veri seti içerisinden çıkartılması:\n",
    "    df = df.drop(['year', \"SAYAC_BASLANGIC_TARIHI\", \"SAYAC_YAPIM_YILI\", \"SAYAC_MARKA\", \"SAYAC_MODEL\", \n",
    "                  \"SAYAC_TAKILMA_TARIHI\", \"SAYAC_BITIS_TARIHI\"], axis = 1)\n",
    "    return df"
   ]
  },
  {
   "cell_type": "code",
   "execution_count": 4,
   "id": "f8dedcb0-7c3e-4d93-bf7e-9fadb7276c09",
   "metadata": {},
   "outputs": [],
   "source": [
    "# Oluşturulan fonksiyon çağrılarak ayrı ayrı test ve train dataframe'leri için tüm preprocessing işlemlerini gerçekleştirir:\n",
    "\n",
    "train_df = preprocessing(train_df)\n",
    "test_df = preprocessing(test_df)"
   ]
  },
  {
   "cell_type": "code",
   "execution_count": 5,
   "id": "0eb3a949",
   "metadata": {},
   "outputs": [
    {
     "name": "stdout",
     "output_type": "stream",
     "text": [
      "['TESISAT_TIPI', 'SAYAC_MALZEME_ID', 'SAYAC_OLCUM_TURU', 'SAYAC_FAZ_N']\n"
     ]
    }
   ],
   "source": [
    "# encode edilecek kolonların seçilmesi\n",
    "\n",
    "columns_to_encode = []\n",
    "\n",
    "for col in train_df.columns:\n",
    "    if train_df[col].dtype == 'object':\n",
    "        columns_to_encode.append(col)\n",
    "print(columns_to_encode)"
   ]
  },
  {
   "cell_type": "code",
   "execution_count": 6,
   "id": "a7827260-dc6f-4519-8939-4d4b79a80614",
   "metadata": {},
   "outputs": [],
   "source": [
    "# scale edilecek kolonların seçilmesi\n",
    "\n",
    "columns_to_scale = ['TUKETIM_M1', 'TUKETIM_M2', 'TUKETIM_M3', 'TUKETIM_M4', 'TUKETIM_M5',\n",
    "                        'TUKETIM_M6', 'TUKETIM_M7', 'TUKETIM_M8', 'TUKETIM_M9', 'TUKETIM_M10',\n",
    "                        'TUKETIM_M11', 'TUKETIM_M12', 'TUKETIM_M13', 'TUKETIM_M14',\n",
    "                        'TUKETIM_M15', 'TUKETIM_M16', 'TUKETIM_M17', 'TUKETIM_M18',\n",
    "                        'TUKETIM_M19', 'TUKETIM_M20', 'TUKETIM_M21', 'TUKETIM_M22',\n",
    "                        'TUKETIM_M23', 'TUKETIM_M24', 'DEMAND_M1', 'DEMAND_M2', 'DEMAND_M3',\n",
    "                        'DEMAND_M4', 'DEMAND_M5', 'DEMAND_M6', 'DEMAND_M7', 'DEMAND_M8',\n",
    "                        'DEMAND_M9', 'DEMAND_M10', 'DEMAND_M11', 'DEMAND_M12', 'SOB_RISK_SKORU',\n",
    "                        'SOKAK_RISK_SKORU', \"MAHALLE_RISK_SKORU\", \"sayac_yas\", 'ORAN_1',\n",
    "                    'ORAN_2','ORAN_3','ORAN_4','ORAN_5','ORAN_6','ORAN_7','ORAN_8','ORAN_9',\n",
    "                    'ORAN_10','ORAN_11','ORAN_12','ORAN_13','ORAN_14','ORAN_15','ORAN_16','ORAN_17',\n",
    "                    'ORAN_18','ORAN_19','ORAN_20','ORAN_21','ORAN_22','ORAN_23']"
   ]
  },
  {
   "cell_type": "code",
   "execution_count": 7,
   "id": "dff6f409-422b-4903-ac16-0fd46f609e04",
   "metadata": {},
   "outputs": [],
   "source": [
    "# encode ve scale işlemleri: \n",
    "\n",
    "rs = RobustScaler()\n",
    "ohe = OneHotEncoder(handle_unknown='ignore', dtype=\"int64\")\n",
    "\n",
    "ct = make_column_transformer((ohe, columns_to_encode), remainder=\"passthrough\")\n",
    "train_df = pd.DataFrame(ct.fit_transform(train_df), columns=ct.get_feature_names())\n",
    "test_df = pd.DataFrame(ct.transform(test_df),columns=ct.get_feature_names())\n",
    "\n",
    "train_df[columns_to_scale] = rs.fit_transform(train_df[columns_to_scale])\n",
    "test_df[columns_to_scale] = rs.fit_transform(test_df[columns_to_scale])"
   ]
  },
  {
   "cell_type": "code",
   "execution_count": 8,
   "id": "4dd95fad-23e3-4bb8-a509-1b4e69bfdcdf",
   "metadata": {},
   "outputs": [],
   "source": [
    "# train_df'in target ve diğer değişkenlerinin ayrılması: \n",
    "\n",
    "X = train_df.loc[:, train_df.columns != 'NK_FLAG']\n",
    "y = train_df[\"NK_FLAG\"]"
   ]
  },
  {
   "cell_type": "code",
   "execution_count": 9,
   "id": "fc04d316",
   "metadata": {},
   "outputs": [
    {
     "data": {
      "text/plain": [
       "<AxesSubplot:xlabel='NK_FLAG', ylabel='count'>"
      ]
     },
     "execution_count": 9,
     "metadata": {},
     "output_type": "execute_result"
    },
    {
     "data": {
      "image/png": "[encoded data removed]",
      "text/plain": [
       "<Figure size 432x288 with 1 Axes>"
      ]
     },
     "metadata": {
      "needs_background": "light"
     },
     "output_type": "display_data"
    }
   ],
   "source": [
    "# oversampling öncesi target değişkenin dağılımı\n",
    "\n",
    "chck = pd.DataFrame()\n",
    "chck['NK_FLAG'] = y\n",
    "\n",
    "sns.countplot(chck['NK_FLAG'],palette=\"pastel\")"
   ]
  },
  {
   "cell_type": "code",
   "execution_count": 10,
   "id": "1a43c530",
   "metadata": {
    "id": "HsJLQ16D-euD",
    "papermill": {
     "duration": 0.048978,
     "end_time": "2020-08-27T14:32:41.417505",
     "exception": false,
     "start_time": "2020-08-27T14:32:41.368527",
     "status": "completed"
    },
    "tags": []
   },
   "outputs": [],
   "source": [
    "# train için ayrılan train_df'i kendi içinde train ve test olarak böldükten sonra, oversampling uygulaması: \n",
    "# oversampling yapıldı ve 1'ler 0'ların yarısı oranına getirildi\n",
    "\n",
    "oversample = SMOTE(sampling_strategy=0.5,random_state=9)\n",
    "X_over, y_over = oversample.fit_resample(X, y)"
   ]
  },
  {
   "cell_type": "code",
   "execution_count": 11,
   "id": "728e2701",
   "metadata": {},
   "outputs": [
    {
     "data": {
      "text/plain": [
       "<AxesSubplot:xlabel='NK_FLAG', ylabel='count'>"
      ]
     },
     "execution_count": 11,
     "metadata": {},
     "output_type": "execute_result"
    },
    {
     "data": {
      "image/png": "[encoded data removed]",
      "text/plain": [
       "<Figure size 432x288 with 1 Axes>"
      ]
     },
     "metadata": {
      "needs_background": "light"
     },
     "output_type": "display_data"
    }
   ],
   "source": [
    "# oversampling sonrası target değişkenin dağılımı\n",
    "\n",
    "chck2 = pd.DataFrame()\n",
    "chck2['NK_FLAG'] = y_over\n",
    "\n",
    "sns.countplot(chck2['NK_FLAG'],palette=\"pastel\")"
   ]
  },
  {
   "cell_type": "markdown",
   "id": "3c024785-4984-4fae-89ad-109f731dfbcd",
   "metadata": {},
   "source": [
    "## Model ve Tahmin\n",
    "### Train Seti ile Catboost modelinin eğitilmesi ve test verileriyle karşılaştırılması :"
   ]
  },
  {
   "cell_type": "code",
   "execution_count": 12,
   "id": "c8ae623e",
   "metadata": {},
   "outputs": [],
   "source": [
    "# test setinden hedef değişken ile diğer değişkenlerin ayrıştırılması: \n",
    "\n",
    "X_test = test_df.loc[:, test_df.columns != 'NK_FLAG']\n",
    "y_actual = test_df[\"NK_FLAG\"]"
   ]
  },
  {
   "cell_type": "code",
   "execution_count": 13,
   "id": "cf065d74",
   "metadata": {},
   "outputs": [
    {
     "data": {
      "text/plain": [
       "<catboost.core.CatBoostClassifier at 0x29e217ae6d0>"
      ]
     },
     "execution_count": 13,
     "metadata": {},
     "output_type": "execute_result"
    }
   ],
   "source": [
    "from catboost import CatBoostClassifier\n",
    "\n",
    "## catboost modelinin oluşturulması: \n",
    "\n",
    "cbc = CatBoostClassifier(silent=True, random_state=111)\n",
    "\n",
    "cbc.fit(X_over, y_over)"
   ]
  },
  {
   "cell_type": "code",
   "execution_count": 14,
   "id": "f9385ebc",
   "metadata": {},
   "outputs": [
    {
     "name": "stdout",
     "output_type": "stream",
     "text": [
      "96.94\n",
      "              precision    recall  f1-score   support\n",
      "\n",
      "         0.0       0.98      0.99      0.98      4687\n",
      "         1.0       0.83      0.65      0.73       313\n",
      "\n",
      "    accuracy                           0.97      5000\n",
      "   macro avg       0.90      0.82      0.85      5000\n",
      "weighted avg       0.97      0.97      0.97      5000\n",
      "\n"
     ]
    },
    {
     "data": {
      "text/plain": [
       "<AxesSubplot:>"
      ]
     },
     "execution_count": 14,
     "metadata": {},
     "output_type": "execute_result"
    },
    {
     "data": {
      "image/png": "[encoded data removed]",
      "text/plain": [
       "<Figure size 432x288 with 2 Axes>"
      ]
     },
     "metadata": {
      "needs_background": "light"
     },
     "output_type": "display_data"
    }
   ],
   "source": [
    "# modelin test seti üzerinde tahminlemesi\n",
    "\n",
    "preds = cbc.predict(X_test)\n",
    "\n",
    "score = cbc.score(X_test, y_actual)\n",
    "print(score*100)\n",
    "print(classification_report(y_actual, preds))\n",
    "\n",
    "cm = confusion_matrix(y_actual, preds)\n",
    "sns.heatmap(cm, annot=True, fmt='.1f', cmap=\"crest\")"
   ]
  },
  {
   "cell_type": "code",
   "execution_count": 15,
   "id": "384623a2",
   "metadata": {},
   "outputs": [
    {
     "name": "stdout",
     "output_type": "stream",
     "text": [
      "              precision    recall  f1-score   support\n",
      "\n",
      "         0.0       0.98      0.98      0.98      4687\n",
      "         1.0       0.72      0.76      0.74       313\n",
      "\n",
      "    accuracy                           0.97      5000\n",
      "   macro avg       0.85      0.87      0.86      5000\n",
      "weighted avg       0.97      0.97      0.97      5000\n",
      "\n"
     ]
    },
    {
     "data": {
      "text/plain": [
       "<AxesSubplot:>"
      ]
     },
     "execution_count": 15,
     "metadata": {},
     "output_type": "execute_result"
    },
    {
     "data": {
      "image/png": "[encoded data removed]",
      "text/plain": [
       "<Figure size 432x288 with 2 Axes>"
      ]
     },
     "metadata": {
      "needs_background": "light"
     },
     "output_type": "display_data"
    }
   ],
   "source": [
    "# thresholdun düşürülerek f1 skorunun maksimize edilmiş hali\n",
    "\n",
    "preds = (cbc.predict_proba(X_test)[:,1] >= 0.29).astype(bool)\n",
    "\n",
    "print(classification_report(y_actual, preds))\n",
    "cm = confusion_matrix(y_actual, preds)\n",
    "sns.heatmap(cm, annot=True, fmt='.1f',cmap=\"flare\")"
   ]
  },
  {
   "cell_type": "code",
   "execution_count": 16,
   "id": "e129f06b",
   "metadata": {},
   "outputs": [
    {
     "name": "stdout",
     "output_type": "stream",
     "text": [
      "              precision    recall  f1-score   support\n",
      "\n",
      "         0.0       0.99      0.94      0.97      4687\n",
      "         1.0       0.50      0.89      0.64       313\n",
      "\n",
      "    accuracy                           0.94      5000\n",
      "   macro avg       0.74      0.92      0.80      5000\n",
      "weighted avg       0.96      0.94      0.94      5000\n",
      "\n"
     ]
    },
    {
     "data": {
      "text/plain": [
       "<AxesSubplot:>"
      ]
     },
     "execution_count": 16,
     "metadata": {},
     "output_type": "execute_result"
    },
    {
     "data": {
      "image/png": "[encoded data removed]",
      "text/plain": [
       "<Figure size 432x288 with 2 Axes>"
      ]
     },
     "metadata": {
      "needs_background": "light"
     },
     "output_type": "display_data"
    }
   ],
   "source": [
    "# thresholdun düşürülerek recall skorunun optimize edilmiş hali\n",
    "\n",
    "preds = (cbc.predict_proba(X_test)[:,1] >= 0.08).astype(bool)\n",
    "\n",
    "print(classification_report(y_actual, preds))\n",
    "cm = confusion_matrix(y_actual, preds)\n",
    "sns.heatmap(cm, annot=True, fmt='.1f',cmap=\"gist_ncar_r\")"
   ]
  }
 ],
 "metadata": {
  "kernelspec": {
   "display_name": "Python 3",
   "language": "python",
   "name": "python3"
  },
  "language_info": {
   "codemirror_mode": {
    "name": "ipython",
    "version": 3
   },
   "file_extension": ".py",
   "mimetype": "text/x-python",
   "name": "python",
   "nbconvert_exporter": "python",
   "pygments_lexer": "ipython3",
   "version": "3.8.8"
  }
 },
 "nbformat": 4,
 "nbformat_minor": 5
}
